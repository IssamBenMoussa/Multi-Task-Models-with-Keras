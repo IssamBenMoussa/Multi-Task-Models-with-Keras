{
 "cells": [
  {
   "cell_type": "code",
   "execution_count": null,
   "metadata": {},
   "outputs": [],
   "source": [
    "%matplotlib inline\n",
    "%load_ext tensorboard\n",
    "\n",
    "import tensorflow as tf\n",
    "import numpy as np\n",
    "import matplotlib.pyplot as plt\n",
    "import shutil\n",
    "\n",
    "try:\n",
    "    shutil.rmtree('logs')\n",
    "except:\n",
    "    pass"
   ]
  },
  {
   "cell_type": "code",
   "execution_count": null,
   "metadata": {},
   "outputs": [],
   "source": [
    "(x_train,y_train),(x_test,y_test) = tf.keras.datasets.mnist.load_data()"
   ]
  },
  {
   "cell_type": "code",
   "execution_count": null,
   "metadata": {},
   "outputs": [],
   "source": [
    "def create_example(x,y):\n",
    "    c=np.random.randint(0,3) # red or green no blue\n",
    "    image = 0.5 * np.random.rand(28,28,3)\n",
    "    image[:,:,c]+= 0.5 * x / 255.\n",
    "    return image,y,c"
   ]
  },
  {
   "cell_type": "code",
   "execution_count": null,
   "metadata": {},
   "outputs": [],
   "source": [
    "x_train[0].shape\n"
   ]
  },
  {
   "cell_type": "code",
   "execution_count": null,
   "metadata": {},
   "outputs": [],
   "source": [
    "plt.imshow(x_train[0])\n",
    "plt.show()"
   ]
  },
  {
   "cell_type": "code",
   "execution_count": null,
   "metadata": {},
   "outputs": [],
   "source": [
    "x,y,c = create_example(x_train[0],y_train[0])\n",
    "plt.imshow(x)\n",
    "plt.show()\n",
    "colors = {0:'red',1:'green',2:'blue'}\n",
    "print('Color :',colors[c],' Digit : ',y)"
   ]
  },
  {
   "cell_type": "code",
   "execution_count": null,
   "metadata": {},
   "outputs": [],
   "source": [
    "#db generator :\n",
    "def generate_data(x,y,batch_size=32):\n",
    "    num_examples=len(y)\n",
    "    \n",
    "    while True:\n",
    "        x_batch = np.zeros((batch_size,28,28,3))\n",
    "        y_batch = np.zeros((batch_size,))\n",
    "        c_batch = np.zeros((batch_size,))\n",
    "        \n",
    "        for i in range(0,batch_size):\n",
    "            index=np.random.randint(0,num_examples)\n",
    "            image,digit,color = create_example(x[index],y[index])\n",
    "            x_batch[i] = image\n",
    "            y_batch[i] = digit\n",
    "            c_batch[i] = color\n",
    "        yield x_batch,[y_batch,c_batch]\n",
    "        "
   ]
  },
  {
   "cell_type": "code",
   "execution_count": null,
   "metadata": {},
   "outputs": [],
   "source": [
    "x1, [y1,c1]=next(generate_data(x_test,y_test,batch_size=1))\n",
    "plt.imshow(x1[0])\n",
    "plt.show()\n",
    "colors = {0:'red',1:'green',2:'blue'}\n",
    "print('Color :',colors[c1[0]],' Digit : ',y1)"
   ]
  },
  {
   "cell_type": "code",
   "execution_count": null,
   "metadata": {},
   "outputs": [],
   "source": [
    "#Creating the model : we have two outputs : color and the label\n",
    "\n",
    "from tensorflow.keras.layers import Input, Conv2D, Activation,MaxPool2D, Flatten,Add, Dense\n",
    "from tensorflow.keras.models import Model\n",
    "\n",
    "input_ = Input(shape=(28,28,3),name=\"input layer\")\n",
    "\n",
    "conv_1 = Conv2D(filters=32,kernel_size=3,name='conv_1')(input_)\n",
    "act_1 = Activation(activation='relu',name='act_1')(conv_1)\n",
    "\n",
    "pool_1 = MaxPool2D(pool_size=4,name='pool_1')(act_1)\n",
    "flat_1 = Flatten(name='flat_1')(pool_1)\n",
    "\n",
    "color = Dense(units=3,activation='softmax',name='color')(flat_1) #binary for color\n",
    "\n",
    "conv_2= Conv2D(32,3,padding='same',name='conv_2')(act_1)#same activation\n",
    "act_2=Activation('relu',name='act_2')(conv_2)\n",
    "\n",
    "conv_3 = Conv2D(32,3,padding='same',name='conv_3')(act_2)\n",
    "add= Add(name='add')([act_1,conv_3])\n",
    "act_3 = Activation('relu',name='act_3')(add)\n",
    "\n",
    "pool_2 = MaxPool2D(4,name='pool_2')(act_3)\n",
    "flat_2 = Flatten(name='flat_2')(pool_2)\n",
    "\n",
    "digit = Dense(10,activation='softmax',name='digit')(flat_2)\n",
    "\n",
    "model = Model (input_, [digit,color]) # generate data returns the digit then the color\n",
    "\n",
    "model.compile(\n",
    "loss={\n",
    "    \n",
    "    'digit': 'sparse_categorical_crossentropy',\n",
    "    'color':'sparse_categorical_crossentropy'\n",
    "},\n",
    "    optimizer='adam',\n",
    "    metrics=['accuracy']\n",
    ")\n",
    "\n",
    "model.summary()\n"
   ]
  },
  {
   "cell_type": "code",
   "execution_count": null,
   "metadata": {},
   "outputs": [],
   "source": [
    "#plotting the model\n",
    "from tensorflow.keras.utils import plot_model\n",
    "\n",
    "plot_model(model)"
   ]
  },
  {
   "cell_type": "code",
   "execution_count": null,
   "metadata": {},
   "outputs": [],
   "source": [
    "class Logger(tf.keras.callbacks.Callback):\n",
    "    def on_epoch_end(self, epoch, logs=None):\n",
    "        digit_accuracy = logs.get('digit_accuracy')\n",
    "        color_accuracy = logs.get('color_accuracy')\n",
    "        val_digit_accuracy = logs.get('val_digit_accuracy')\n",
    "        val_color_accuracy = logs.get('val_color_accuracy')\n",
    "        print('='*30, epoch + 1, '='*30)\n",
    "        print(f'digit_accuracy: {digit_accuracy:.2f}, color_accuracy: {color_accuracy:.2f}')\n",
    "        print(f'val_digit_accuracy: {val_digit_accuracy:.2f}, val_color_accuracy: {val_color_accuracy:.2f}')\n",
    "    "
   ]
  },
  {
   "cell_type": "code",
   "execution_count": null,
   "metadata": {},
   "outputs": [],
   "source": [
    "#training the model\n",
    "train_gen= generate_data(x_train,y_train)\n",
    "test_gen = generate_data(x_test,y_test)\n",
    "\n",
    "_ = model.fit(\n",
    "    train_gen,\n",
    "    validation_data=test_gen,\n",
    "    steps_per_epoch=200,\n",
    "    validation_steps=100,\n",
    "    epochs=10,\n",
    "    callbacks=[\n",
    "        Logger(),\n",
    "        tf.keras.callbacks.TensorBoard(log_dir='./logs')\n",
    "    ],\n",
    "    verbose=False\n",
    ")\n"
   ]
  },
  {
   "cell_type": "code",
   "execution_count": null,
   "metadata": {},
   "outputs": [],
   "source": [
    "%tensorboard --logdir logs"
   ]
  },
  {
   "cell_type": "code",
   "execution_count": null,
   "metadata": {},
   "outputs": [],
   "source": [
    "def test_model(test,show=True):\n",
    "    x, [y, c] = next(test)\n",
    "\n",
    "    preds = model.predict(x)\n",
    "    pred_digit = np.argmax(preds[0])\n",
    "    pred_color = int(preds[1] > 0.5)\n",
    "    gt_digit = int(y[0])\n",
    "    gt_color = int(c[0])\n",
    "\n",
    "    plt.imshow(x[0])\n",
    "    if show:\n",
    "        print(f'GT: {gt_digit}, {colors[gt_color]}')\n",
    "        print(f'Pr: {pred_digit}, {colors[pred_color]}')\n",
    "        plt.show()\n",
    "    else:\n",
    "        col = 'green' if gt_digit == pred_digit and gt_color == pred_color else 'red'\n",
    "        plt.ylabel(f'GT: {gt_digit}, {colors[gt_color]}', color=col)\n",
    "        plt.xlabel(f'Pr: {pred_digit}, {colors[pred_color]}', color=col)\n",
    "        plt.xticks([])\n",
    "        plt.yticks([])\n",
    "\n",
    "\n",
    "test = generate_data(x_test, y_test, batch_size=1)"
   ]
  },
  {
   "cell_type": "code",
   "execution_count": null,
   "metadata": {},
   "outputs": [],
   "source": [
    "plt.figure(figsize=(12,12))\n",
    "\n",
    "for i in range(0,16):\n",
    "    plt.subplot(4,4,i+1) #subplots start from 1\n",
    "    test_model(test,False)\n",
    "plt.show()"
   ]
  },
  {
   "cell_type": "code",
   "execution_count": null,
   "metadata": {},
   "outputs": [],
   "source": [
    "def show_confusion_matrix_digit(y_true, y_pred, classes):\n",
    "    from sklearn.metrics import confusion_matrix\n",
    "    \n",
    "    cm = confusion_matrix(y_true, y_pred, normalize='true')\n",
    "\n",
    "    plt.figure(figsize=(8, 8))\n",
    "    sp = plt.subplot(1, 1, 1)\n",
    "    ctx = sp.matshow(cm)\n",
    "    plt.xticks(list(range(0, 10)), labels=classes)\n",
    "    plt.yticks(list(range(0, 10)), labels=classes)\n",
    "    plt.colorbar(ctx)\n",
    "    plt.show()\n",
    "    \n",
    "    "
   ]
  },
  {
   "cell_type": "code",
   "execution_count": null,
   "metadata": {},
   "outputs": [],
   "source": [
    "test = generate_data(x_test, y_test, batch_size=32)\n",
    "x, [y, c] = next(test)\n",
    "y_pred = list(np.argmax(model.predict(x)[0],axis=-1))\n",
    "#print(y_pred)\n",
    "\n",
    "y_true=list(y)\n",
    "for i in range(10) :\n",
    "    x, [y, c] = next(test)\n",
    "    y_pred.extend(list(np.argmax(model.predict(x)[0],axis=-1)))\n",
    "    y_true.extend(list(y))\n"
   ]
  },
  {
   "cell_type": "code",
   "execution_count": null,
   "metadata": {},
   "outputs": [],
   "source": [
    "show_confusion_matrix_digit(y_true,y_pred,classes=[0,1,2,3,4,5,6,7,8,9])"
   ]
  },
  {
   "cell_type": "code",
   "execution_count": null,
   "metadata": {},
   "outputs": [],
   "source": [
    "def show_confusion_matrix_color(y_true, y_pred, classes):\n",
    "    from sklearn.metrics import confusion_matrix\n",
    "    \n",
    "    cm = confusion_matrix(y_true, y_pred, normalize='true')\n",
    "\n",
    "    plt.figure(figsize=(8, 8))\n",
    "    sp = plt.subplot(1, 1, 1)\n",
    "    ctx = sp.matshow(cm)\n",
    "    plt.xticks(list(range(0, 3)), labels=classes)\n",
    "    plt.yticks(list(range(0, 3)), labels=classes)\n",
    "    plt.colorbar(ctx)\n",
    "    plt.show()\n",
    "    \n",
    "    "
   ]
  },
  {
   "cell_type": "code",
   "execution_count": null,
   "metadata": {},
   "outputs": [],
   "source": [
    "test = generate_data(x_test, y_test, batch_size=32)\n",
    "x, [y, c] = next(test)\n",
    "y_pred = list(np.argmax(model.predict(x)[1],axis=-1))\n",
    "#print(y_pred)\n",
    "\n",
    "y_true=list(c)\n",
    "for i in range(10) :\n",
    "    x, [y, c] = next(test)\n",
    "    y_pred.extend(list(np.argmax(model.predict(x)[1],axis=-1)))\n",
    "    y_true.extend(list(c))\n"
   ]
  },
  {
   "cell_type": "code",
   "execution_count": null,
   "metadata": {},
   "outputs": [],
   "source": [
    "show_confusion_matrix_color(y_true,y_pred,classes=['red','green','blue'])"
   ]
  }
 ],
 "metadata": {
  "kernelspec": {
   "display_name": "Python 3",
   "language": "python",
   "name": "python3"
  },
  "language_info": {
   "codemirror_mode": {
    "name": "ipython",
    "version": 3
   },
   "file_extension": ".py",
   "mimetype": "text/x-python",
   "name": "python",
   "nbconvert_exporter": "python",
   "pygments_lexer": "ipython3",
   "version": "3.8.5"
  }
 },
 "nbformat": 4,
 "nbformat_minor": 4
}
